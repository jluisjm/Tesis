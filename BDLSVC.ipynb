{
 "cells": [
  {
   "cell_type": "code",
   "execution_count": 1,
   "metadata": {},
   "outputs": [
    {
     "data": {
      "text/plain": [
       "66410"
      ]
     },
     "execution_count": 1,
     "metadata": {},
     "output_type": "execute_result"
    }
   ],
   "source": [
    "from pyspark.ml import Pipeline\n",
    "from pyspark.ml.classification import LinearSVC\n",
    "from pyspark.ml.tuning import CrossValidator, ParamGridBuilder\n",
    "from pyspark.ml.evaluation import  BinaryClassificationEvaluator, RegressionEvaluator\n",
    "from pyspark.ml.feature import HashingTF, IDF, Tokenizer, StringIndexer, NGram, VectorAssembler, ChiSqSelector, StopWordsRemover\n",
    "\n",
    "df = sqlContext.read.format('csv').options(delimiter='\\t', header='true', inferSchema='true').load('/home/jluis2/datosbi01.csv')\n",
    "df.count()"
   ]
  },
  {
   "cell_type": "code",
   "execution_count": 6,
   "metadata": {},
   "outputs": [
    {
     "name": "stdout",
     "output_type": "stream",
     "text": [
      "CPU times: user 507 ms, sys: 127 ms, total: 634 ms\n",
      "Wall time: 2min 11s\n"
     ]
    }
   ],
   "source": [
    "%%time\n",
    "(train_set, val_set, test_set) = df.randomSplit([0.98, 0.01, 0.01])\n",
    "def build_ngrams_wocs(inputCol=[\"review\",\"label\"], n=2):\n",
    "    tokenizer = [Tokenizer(inputCol=\"review\", outputCol=\"words\")]\n",
    "    stopwordsRemover = [StopWordsRemover(inputCol=\"words\", outputCol=\"filtered\")]\n",
    "    ngrams = [\n",
    "        NGram(n=i, inputCol=\"filtered\", outputCol=\"{0}_grams\".format(i))\n",
    "        for i in range(1, n + 1)\n",
    "    ]\n",
    "    return  Pipeline(stages=tokenizer + stopwordsRemover + ngrams)\n",
    "\n",
    "theData = build_ngrams_wocs().fit(train_set)\n",
    "hashtf = HashingTF(numFeatures=30000, inputCol=\"filtered\", outputCol='tf')\n",
    "idf = IDF(inputCol='tf', outputCol=\"features\", minDocFreq=5)\n",
    "label_stringIdx = StringIndexer(inputCol = \"label\", outputCol = \"labels\")\n",
    "lsvc = LinearSVC(tol=0.0001, maxIter=8)\n",
    "pipeline = Pipeline(stages=[theData, hashtf, idf, label_stringIdx, lsvc])\n",
    "\n",
    "paramGrid = ParamGridBuilder().addGrid(lsvc.regParam, [0.05]).build()\n",
    "crossval = CrossValidator(estimator=pipeline,\n",
    "                          estimatorParamMaps=paramGrid,\n",
    "                          evaluator=BinaryClassificationEvaluator(),\n",
    "                          numFolds=3)  \n",
    "pipelineFit = crossval.fit(train_set)\n",
    "predictions = pipelineFit.transform(train_set)"
   ]
  },
  {
   "cell_type": "code",
   "execution_count": 7,
   "metadata": {},
   "outputs": [
    {
     "name": "stdout",
     "output_type": "stream",
     "text": [
      "('AVG Accuracy:', [0.910536914432777])\n",
      "('Mean Square Error (MSE):', 0.09390176430810844)\n"
     ]
    }
   ],
   "source": [
    "chk = pipelineFit.avgMetrics\n",
    "print(\"AVG Accuracy:\", chk)\n",
    "\n",
    "evaluator = RegressionEvaluator(\n",
    "    labelCol=\"label\", \n",
    "    predictionCol=\"prediction\", \n",
    "    metricName=\"mse\")\n",
    "mse = evaluator.evaluate(predictions)\n",
    "print(\"Mean Square Error (MSE):\", mse)"
   ]
  },
  {
   "cell_type": "code",
   "execution_count": null,
   "metadata": {},
   "outputs": [],
   "source": []
  }
 ],
 "metadata": {
  "kernelspec": {
   "display_name": "Python 2",
   "language": "python",
   "name": "python2"
  },
  "language_info": {
   "codemirror_mode": {
    "name": "ipython",
    "version": 2
   },
   "file_extension": ".py",
   "mimetype": "text/x-python",
   "name": "python",
   "nbconvert_exporter": "python",
   "pygments_lexer": "ipython2",
   "version": "2.7.12"
  }
 },
 "nbformat": 4,
 "nbformat_minor": 2
}
